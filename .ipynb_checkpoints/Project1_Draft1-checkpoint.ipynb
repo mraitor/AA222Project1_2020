{
 "cells": [
  {
   "cell_type": "code",
   "execution_count": null,
   "metadata": {},
   "outputs": [],
   "source": [
    "using Plots\n",
    "include(\"Project1_jl/helpers.jl\")\n",
    "include(\"Project1_jl/project1.jl\")\n",
    "include(\"Project1_jl/simple.jl\")"
   ]
  },
  {
   "cell_type": "code",
   "execution_count": null,
   "metadata": {},
   "outputs": [],
   "source": [
    "#  rgrad = rosenbrock_gradient(vec([0 0]))\n",
    "#  r = rosenbrock(vec([0 0]))\n",
    "x0r = rosenbrock_init();\n",
    "   optimize(rosenbrock, rosenbrock_gradient, x0r, 20, \"simple1\")\n",
    "#   optimize(powell, powell_gradient, vec([3 3 3 3]), 20, \"simple3\")\n",
    "\n",
    "# f_tmp(x) = 1/2*(x'*x)\n",
    "# fgrd_tmp(x) = x\n",
    "# optimize(f_tmp, fgrd_tmp, vec([3 3]), 20, \"simple1\")\n",
    "# println(t)\n",
    "\n",
    "#   main(\"simple1\", 3, optimize)\n"
   ]
  },
  {
   "cell_type": "code",
   "execution_count": null,
   "metadata": {},
   "outputs": [],
   "source": [
    "# rosenbrock_gradient(vec([0 0]))\n",
    "# rosenbrock(e)\n",
    "# optimize(rosenbrock, rosenbrock_gradient, vec([3 3]), 20, \"simple1\")\n",
    "#  main(\"simple1\", 1, optimize)\n"
   ]
  },
  {
   "cell_type": "code",
   "execution_count": null,
   "metadata": {},
   "outputs": [],
   "source": [
    "f(x, y) =  x*y"
   ]
  },
  {
   "cell_type": "code",
   "execution_count": null,
   "metadata": {},
   "outputs": [],
   "source": []
  },
  {
   "cell_type": "code",
   "execution_count": null,
   "metadata": {},
   "outputs": [],
   "source": [
    "x = -10:10\n",
    "y = -10:10"
   ]
  },
  {
   "cell_type": "code",
   "execution_count": null,
   "metadata": {},
   "outputs": [],
   "source": [
    "plot(x, y, f, seriestype = :contour)"
   ]
  },
  {
   "cell_type": "code",
   "execution_count": null,
   "metadata": {},
   "outputs": [],
   "source": [
    "plot(x, y, f, seriestype = :contour, levels = [-1, 1])"
   ]
  },
  {
   "cell_type": "code",
   "execution_count": null,
   "metadata": {},
   "outputs": [],
   "source": [
    "path = [2*randn(2) for i in 1:10]\n",
    "path = Tuple.(cumsum(path))\n",
    "\n",
    "plot!(path, c = :black)"
   ]
  },
  {
   "cell_type": "code",
   "execution_count": null,
   "metadata": {},
   "outputs": [],
   "source": [
    "savefig(\"myfancyplot.pdf\")"
   ]
  },
  {
   "cell_type": "code",
   "execution_count": null,
   "metadata": {},
   "outputs": [],
   "source": []
  }
 ],
 "metadata": {
  "kernelspec": {
   "display_name": "Julia 1.4.0",
   "language": "julia",
   "name": "julia-1.4"
  },
  "language_info": {
   "file_extension": ".jl",
   "mimetype": "application/julia",
   "name": "julia",
   "version": "1.4.0"
  }
 },
 "nbformat": 4,
 "nbformat_minor": 4
}
